{
 "cells": [
  {
   "cell_type": "code",
   "execution_count": 52,
   "metadata": {
    "collapsed": false
   },
   "outputs": [
    {
     "data": {
      "text/plain": [
       "array([0.      , 0.      , 0.001156])"
      ]
     },
     "execution_count": 52,
     "metadata": {},
     "output_type": "execute_result"
    }
   ],
   "source": [
    "import matplotlib.pylab as plt\n",
    "from numpy import *\n",
    "\n",
    "def createDataSet():\n",
    "    group = array([[1.0, 1.1],\n",
    "                   [1.0, 1.0],\n",
    "                   [0, 0],\n",
    "                   [0, 0.1]])\n",
    "    labels = ['A', 'A', 'B', 'B']\n",
    "    return group, labels\n",
    "\n",
    "def classify0(inX, dataSet, labels, k):\n",
    "    dataSetSize = dataSet.shape[0]\n",
    "    diffMat = tile(inX, (dataSetSize, 1)) - dataSet\n",
    "    sqDiffMat = diffMat ** 2\n",
    "    sqDistances = sqDiffMat.sum(axis=1)\n",
    "    distance = sqDistances ** 0.5\n",
    "    sortedDistIndices = distance.argsort()\n",
    "    classCount = {}\n",
    "    for i in range(k):\n",
    "        voteIlabel = labels[sortedDistIndices[i]]\n",
    "        classCount[voteIlabel] = classCount.get(voteIlabel, 0) + 1\n",
    "    sortedClassCount = sorted(classCount.iteritems(),\n",
    "                              key=operator.itemgetter(1),\n",
    "                              reverse=True)\n",
    "    return sortedClassCount[0][0]\n",
    "group, labels = createDataSet()\n",
    "classify0([0, 0], group, labels, 3)\n",
    "\n",
    "def file2matrix(filename):\n",
    "    fr = open(filename)\n",
    "    arrayLines = fr.readlines()\n",
    "    numberOfLines = len(arrayLines)\n",
    "    returnMat = zeros((numberOfLines, 3))\n",
    "    classLabelVector = []\n",
    "    index = 0\n",
    "    for line in arrayLines:\n",
    "        listForLine = line.split('\\t')\n",
    "        returnMat[index, :] = listForLine[:-1]\n",
    "        classLabelVector.append(int(listForLine[-1]))\n",
    "        index += 1\n",
    "    return returnMat, classLabelVector\n",
    "datingDateMat, datingLabels = file2matrix('C:\\Users\\Administrator\\Desktop\\python-learn\\ML\\datingTestSet2.txt')\n",
    "# fig = plt.figure()\n",
    "# ax = fig.add_subplot(111)\n",
    "# ax.scatter(datingDateMat[:, 1], datingDateMat[:, 2], 15.0 * array(datingLabels), 15.0 * array(datingLabels))\n",
    "# plt.show()\n",
    "\n",
    "def autoNorm(dataSet):\n",
    "    minVals = dataSet.min(0)\n",
    "    maxVals = dataSet.max(0)\n",
    "    ranges = maxVals - minVals\n",
    "    normDataSet = zeros(shape(dataSet))\n",
    "    m = dataSet.shape[0]\n",
    "    normDataSet = dataSet - tile(minVals, (m, 1))\n",
    "    normDataSet = normDataSet / tile(ranges, (m, 1))\n",
    "    return normDataSet, ranges, minVals\n",
    "normMat, ranges, minVals = autoNorm(datingDateMat)\n"
   ]
  },
  {
   "cell_type": "code",
   "execution_count": 22,
   "metadata": {},
   "outputs": [
    {
     "data": {
      "text/plain": [
       "array([2, 3, 1, 0], dtype=int64)"
      ]
     },
     "execution_count": 22,
     "metadata": {},
     "output_type": "execute_result"
    }
   ],
   "source": [
    "# coding=utf-8\n",
    "\n",
    "dataSet, labels = createDataSet()\n",
    "inX = [0, 0]\n",
    "dataSetSize = dataSet.shape[0]\n",
    "diffMat = tile(inX, (dataSetSize, 1)) \\\n",
    "          - dataSet\n",
    "sqDiffMat = diffMat ** 2\n",
    "sqDistances = sqDiffMat.sum(axis=1)\n",
    "distance = sqDistances ** 0.5\n",
    "sortedDistIndices = distance.argsort()  # 从小到大的索引\n",
    "sortedDistIndices\n"
   ]
  },
  {
   "cell_type": "code",
   "execution_count": 23,
   "metadata": {},
   "outputs": [
    {
     "data": {
      "text/plain": [
       "array([1.48660687, 1.41421356, 0.        , 0.1       ])"
      ]
     },
     "execution_count": 23,
     "metadata": {},
     "output_type": "execute_result"
    }
   ],
   "source": [
    "distance"
   ]
  },
  {
   "cell_type": "code",
   "execution_count": 18,
   "metadata": {},
   "outputs": [
    {
     "data": {
      "text/plain": [
       "array([2.21, 2.  , 0.  , 0.01])"
      ]
     },
     "execution_count": 18,
     "metadata": {},
     "output_type": "execute_result"
    }
   ],
   "source": [
    "sqDistances"
   ]
  },
  {
   "cell_type": "code",
   "execution_count": null,
   "metadata": {},
   "outputs": [],
   "source": []
  }
 ],
 "metadata": {
  "kernelspec": {
   "display_name": "Python 2",
   "language": "python",
   "name": "python2"
  },
  "language_info": {
   "codemirror_mode": {
    "name": "ipython",
    "version": 2
   },
   "file_extension": ".py",
   "mimetype": "text/x-python",
   "name": "python",
   "nbconvert_exporter": "python",
   "pygments_lexer": "ipython2",
   "version": "2.7.6"
  }
 },
 "nbformat": 4,
 "nbformat_minor": 0
}
