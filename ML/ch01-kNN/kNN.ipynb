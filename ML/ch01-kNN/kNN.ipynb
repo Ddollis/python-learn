{
 "cells": [
  {
   "cell_type": "code",
   "execution_count": 58,
   "metadata": {
    "collapsed": false
   },
   "outputs": [
    {
     "ename": "StdinNotImplementedError",
     "evalue": "raw_input was called, but this frontend does not support input requests.",
     "traceback": [
      "\u001b[0;31m---------------------------------------------------------------------------\u001b[0m",
      "\u001b[0;31mStdinNotImplementedError\u001b[0m                  Traceback (most recent call last)",
      "\u001b[0;32m<ipython-input-58-ac06bbedc9bc>\u001b[0m in \u001b[0;36m<module>\u001b[0;34m()\u001b[0m\n\u001b[1;32m     82\u001b[0m     \u001b[0mclassifierResult\u001b[0m \u001b[0;34m=\u001b[0m \u001b[0mclassify0\u001b[0m\u001b[0;34m(\u001b[0m\u001b[0;34m(\u001b[0m\u001b[0minArr\u001b[0m \u001b[0;34m-\u001b[0m \u001b[0mminVals\u001b[0m\u001b[0;34m)\u001b[0m \u001b[0;34m/\u001b[0m \u001b[0mrangees\u001b[0m\u001b[0;34m,\u001b[0m \u001b[0mnormMat\u001b[0m\u001b[0;34m,\u001b[0m \u001b[0mdatingLabels\u001b[0m\u001b[0;34m,\u001b[0m \u001b[0;36m3\u001b[0m\u001b[0;34m)\u001b[0m\u001b[0;34m\u001b[0m\u001b[0m\n\u001b[1;32m     83\u001b[0m     \u001b[0;32mprint\u001b[0m \u001b[0;34m'You will probably like this person:'\u001b[0m\u001b[0;34m,\u001b[0m \u001b[0mresultList\u001b[0m\u001b[0;34m[\u001b[0m\u001b[0mclassifierResult\u001b[0m \u001b[0;34m-\u001b[0m \u001b[0;36m1\u001b[0m\u001b[0;34m]\u001b[0m\u001b[0;34m\u001b[0m\u001b[0m\n\u001b[0;32m---> 84\u001b[0;31m \u001b[0mclassifyPerson\u001b[0m\u001b[0;34m(\u001b[0m\u001b[0;34m)\u001b[0m\u001b[0;34m\u001b[0m\u001b[0m\n\u001b[0m",
      "\u001b[0;32m<ipython-input-58-ac06bbedc9bc>\u001b[0m in \u001b[0;36mclassifyPerson\u001b[0;34m()\u001b[0m\n\u001b[1;32m     74\u001b[0m \u001b[0;32mdef\u001b[0m \u001b[0mclassifyPerson\u001b[0m\u001b[0;34m(\u001b[0m\u001b[0;34m)\u001b[0m\u001b[0;34m:\u001b[0m\u001b[0;34m\u001b[0m\u001b[0m\n\u001b[1;32m     75\u001b[0m     \u001b[0mresultList\u001b[0m \u001b[0;34m=\u001b[0m \u001b[0;34m[\u001b[0m\u001b[0;34m'not at all'\u001b[0m\u001b[0;34m,\u001b[0m \u001b[0;34m'in small doses'\u001b[0m\u001b[0;34m,\u001b[0m \u001b[0;34m'int large doses'\u001b[0m\u001b[0;34m]\u001b[0m\u001b[0;34m\u001b[0m\u001b[0m\n\u001b[0;32m---> 76\u001b[0;31m     \u001b[0mpercentTats\u001b[0m \u001b[0;34m=\u001b[0m \u001b[0mfloat\u001b[0m\u001b[0;34m(\u001b[0m\u001b[0mraw_input\u001b[0m\u001b[0;34m(\u001b[0m\u001b[0;34m'percentage of time spend playing video games?'\u001b[0m\u001b[0;34m)\u001b[0m\u001b[0;34m)\u001b[0m\u001b[0;34m\u001b[0m\u001b[0m\n\u001b[0m\u001b[1;32m     77\u001b[0m     \u001b[0mffMails\u001b[0m \u001b[0;34m=\u001b[0m \u001b[0mfloat\u001b[0m\u001b[0;34m(\u001b[0m\u001b[0mraw_input\u001b[0m\u001b[0;34m(\u001b[0m\u001b[0;34m'frequent flier miles earned per year?'\u001b[0m\u001b[0;34m)\u001b[0m\u001b[0;34m)\u001b[0m\u001b[0;34m\u001b[0m\u001b[0m\n\u001b[1;32m     78\u001b[0m     \u001b[0miceCream\u001b[0m \u001b[0;34m=\u001b[0m \u001b[0mfloat\u001b[0m\u001b[0;34m(\u001b[0m\u001b[0mraw_input\u001b[0m\u001b[0;34m(\u001b[0m\u001b[0;34m'liters of ice-cream consumed per year?'\u001b[0m\u001b[0;34m)\u001b[0m\u001b[0;34m)\u001b[0m\u001b[0;34m\u001b[0m\u001b[0m\n",
      "\u001b[0;32mc:\\python27\\lib\\site-packages\\ipykernel\\kernelbase.pyc\u001b[0m in \u001b[0;36mraw_input\u001b[0;34m(self, prompt)\u001b[0m\n\u001b[1;32m    697\u001b[0m         \u001b[0;32mif\u001b[0m \u001b[0;32mnot\u001b[0m \u001b[0mself\u001b[0m\u001b[0;34m.\u001b[0m\u001b[0m_allow_stdin\u001b[0m\u001b[0;34m:\u001b[0m\u001b[0;34m\u001b[0m\u001b[0m\n\u001b[1;32m    698\u001b[0m             raise StdinNotImplementedError(\n\u001b[0;32m--> 699\u001b[0;31m                 \u001b[0;34m\"raw_input was called, but this frontend does not support input requests.\"\u001b[0m\u001b[0;34m\u001b[0m\u001b[0m\n\u001b[0m\u001b[1;32m    700\u001b[0m             )\n\u001b[1;32m    701\u001b[0m         return self._input_request(str(prompt),\n",
      "\u001b[0;31mStdinNotImplementedError\u001b[0m: raw_input was called, but this frontend does not support input requests."
     ],
     "output_type": "error"
    }
   ],
   "source": [
    "import matplotlib.pylab as plt\n",
    "from numpy import *\n",
    "\n",
    "def createDataSet():\n",
    "    group = array([[1.0, 1.1],\n",
    "                   [1.0, 1.0],\n",
    "                   [0, 0],\n",
    "                   [0, 0.1]])\n",
    "    labels = ['A', 'A', 'B', 'B']\n",
    "    return group, labels\n",
    "\n",
    "def classify0(inX, dataSet, labels, k):\n",
    "    dataSetSize = dataSet.shape[0]\n",
    "    diffMat = tile(inX, (dataSetSize, 1)) - dataSet\n",
    "    sqDiffMat = diffMat ** 2\n",
    "    sqDistances = sqDiffMat.sum(axis=1)\n",
    "    distance = sqDistances ** 0.5\n",
    "    sortedDistIndices = distance.argsort()\n",
    "    classCount = {}\n",
    "    for i in range(k):\n",
    "        voteIlabel = labels[sortedDistIndices[i]]\n",
    "        classCount[voteIlabel] = classCount.get(voteIlabel, 0) + 1\n",
    "    sortedClassCount = sorted(classCount.iteritems(),\n",
    "                              key=operator.itemgetter(1),\n",
    "                              reverse=True)\n",
    "    return sortedClassCount[0][0]\n",
    "group, labels = createDataSet()\n",
    "classify0([0, 0], group, labels, 3)\n",
    "\n",
    "def file2matrix(filename):\n",
    "    fr = open(filename)\n",
    "    arrayLines = fr.readlines()\n",
    "    numberOfLines = len(arrayLines)\n",
    "    returnMat = zeros((numberOfLines, 3))\n",
    "    classLabelVector = []\n",
    "    index = 0\n",
    "    for line in arrayLines:\n",
    "        listForLine = line.split('\\t')\n",
    "        returnMat[index, :] = listForLine[:-1]\n",
    "        classLabelVector.append(int(listForLine[-1]))\n",
    "        index += 1\n",
    "    return returnMat, classLabelVector\n",
    "# datingDateMat, datingLabels = file2matrix('C:\\Users\\Administrator\\Desktop\\python-learn\\ML\\datingTestSet2.txt')\n",
    "# fig = plt.figure()\n",
    "# ax = fig.add_subplot(111)\n",
    "# ax.scatter(datingDateMat[:, 1], datingDateMat[:, 2], 15.0 * array(datingLabels), 15.0 * array(datingLabels))\n",
    "# plt.show()\n",
    "\n",
    "def autoNorm(dataSet):\n",
    "    minVals = dataSet.min(0)\n",
    "    maxVals = dataSet.max(0)\n",
    "    ranges = maxVals - minVals\n",
    "    normDataSet = zeros(shape(dataSet))\n",
    "    m = dataSet.shape[0]\n",
    "    normDataSet = dataSet - tile(minVals, (m, 1))\n",
    "    normDataSet = normDataSet / tile(ranges, (m, 1))\n",
    "    return normDataSet, ranges, minVals\n",
    "# normMat, ranges, minVals = autoNorm(datingDateMat)\n",
    "\n",
    "def datingClassTest():\n",
    "    hoRatio = 0.10\n",
    "    datingDateMat, datingLabels = file2matrix('C:\\Users\\Administrator\\Desktop\\python-learn\\ML\\datingTestSet2.txt')\n",
    "    normMat, ranges, minVals = autoNorm(datingDateMat)\n",
    "    m = normMat.shape[0]\n",
    "    numTestVecs = int(m * hoRatio)\n",
    "    errorCount = 0.0\n",
    "    for i in range(numTestVecs):\n",
    "        classifierResult = classify0(normMat[i, :], normMat[numTestVecs:, ], datingLabels[numTestVecs:], 4)\n",
    "        print 'the classifier came back with: %d, the real answer: %d' % (classifierResult, datingLabels[i])\n",
    "        if classifierResult != datingLabels[i]:\n",
    "            errorCount += 1.0\n",
    "    print \"the total error rate is: %f\" % (errorCount / float(numTestVecs))\n",
    "# datingClassTest()\n",
    "def classifyPerson():\n",
    "    resultList = ['not at all', 'in small doses', 'int large doses']\n",
    "    percentTats = float(raw_input('percentage of time spend playing video games?'))\n",
    "    ffMails = float(raw_input('frequent flier miles earned per year?'))\n",
    "    iceCream = float(raw_input('liters of ice-cream consumed per year?'))\n",
    "    datingDateMat, datingLabels = file2matrix('C:\\Users\\Administrator\\Desktop\\python-learn\\ML\\datingTestSet2.txt')\n",
    "    normMat, ranges, minVals = autoNorm(datingDateMat)\n",
    "    inArr = array([percentTats, ffMails, iceCream])\n",
    "    classifierResult = classify0((inArr - minVals) / rangees, normMat, datingLabels, 3)\n",
    "    print 'You will probably like this person:', resultList[classifierResult - 1]\n",
    "classifyPerson()"
   ]
  },
  {
   "cell_type": "code",
   "execution_count": 22,
   "metadata": {},
   "outputs": [
    {
     "data": {
      "text/plain": [
       "array([2, 3, 1, 0], dtype=int64)"
      ]
     },
     "execution_count": 22,
     "metadata": {},
     "output_type": "execute_result"
    }
   ],
   "source": [
    "# coding=utf-8\n",
    "\n",
    "dataSet, labels = createDataSet()\n",
    "inX = [0, 0]\n",
    "dataSetSize = dataSet.shape[0]\n",
    "diffMat = tile(inX, (dataSetSize, 1)) \\\n",
    "          - dataSet\n",
    "sqDiffMat = diffMat ** 2\n",
    "sqDistances = sqDiffMat.sum(axis=1)\n",
    "distance = sqDistances ** 0.5\n",
    "sortedDistIndices = distance.argsort()  # 从小到大的索引\n",
    "sortedDistIndices\n"
   ]
  },
  {
   "cell_type": "code",
   "execution_count": 23,
   "metadata": {},
   "outputs": [
    {
     "data": {
      "text/plain": [
       "array([1.48660687, 1.41421356, 0.        , 0.1       ])"
      ]
     },
     "execution_count": 23,
     "metadata": {},
     "output_type": "execute_result"
    }
   ],
   "source": [
    "distance"
   ]
  },
  {
   "cell_type": "code",
   "execution_count": 18,
   "metadata": {},
   "outputs": [
    {
     "data": {
      "text/plain": [
       "array([2.21, 2.  , 0.  , 0.01])"
      ]
     },
     "execution_count": 18,
     "metadata": {},
     "output_type": "execute_result"
    }
   ],
   "source": [
    "sqDistances"
   ]
  },
  {
   "cell_type": "code",
   "execution_count": null,
   "metadata": {},
   "outputs": [],
   "source": []
  }
 ],
 "metadata": {
  "kernelspec": {
   "display_name": "Python 2",
   "language": "python",
   "name": "python2"
  },
  "language_info": {
   "codemirror_mode": {
    "name": "ipython",
    "version": 2
   },
   "file_extension": ".py",
   "mimetype": "text/x-python",
   "name": "python",
   "nbconvert_exporter": "python",
   "pygments_lexer": "ipython2",
   "version": "2.7.6"
  }
 },
 "nbformat": 4,
 "nbformat_minor": 0
}
