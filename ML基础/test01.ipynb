{
 "cells": [
  {
   "cell_type": "code",
   "execution_count": 3,
   "metadata": {},
   "outputs": [
    {
     "name": "stdout",
     "output_type": "stream",
     "text": [
      "10\n11\n12\n13\n14\n15\n"
     ]
    }
   ],
   "source": [
    "import time\n",
    "\n",
    "# print time.ctime()\n",
    "# print 'hello jupyter'\n",
    "import numpy as np\n",
    "\n",
    "a = np.array([\n",
    "    [\n",
    "        [3.4, 5, 6, 8],\n",
    "        [3, 2.4, 5, 7]\n",
    "    ],\n",
    "    [\n",
    "        [2.3, 4, 5, 6],\n",
    "        [0.9, 5, 6, 1]\n",
    "    ],\n",
    "    [\n",
    "        [9, 6.7, 3, 2],\n",
    "        [1, 3, 4, 5]\n",
    "    ]\n",
    "])\n",
    "a.ndim\n",
    "a.dtype\n",
    "\n",
    "a.shape\n",
    "\n",
    "a.size\n",
    "\n",
    "1 / 2.0 / 3 / 4 / 5\n",
    "\n",
    "In\n",
    "a = np.array([1, 2, 3])\n",
    "a\n",
    "\n",
    "type(a)\n",
    "a.dtype\n",
    "a.ndim\n",
    "a.size\n",
    "a.shape\n",
    "b = np.array([[1.3, 2.4], [0.3, 4.1]])\n",
    "b.dtype\n",
    "\n",
    "b.ndim\n",
    "b.size\n",
    "b.shape\n",
    "b.itemsize\n",
    "g = np.array([\n",
    "    ['a', 'b'],\n",
    "    ['c', 'd']\n",
    "])\n",
    "g\n",
    "\n",
    "g.dtype\n",
    "g.dtype.name\n",
    "f = np.array([\n",
    "    [1, 2, 3],\n",
    "    [4, 5, 6]\n",
    "], dtype=complex)\n",
    "f\n",
    "\n",
    "np.zeros((3, 3))\n",
    "\n",
    "np.ones((3, 3))\n",
    "np.arange(0, 10, 2.1)\n",
    "\n",
    "b = np.arange(4, 8)\n",
    "b\n",
    "a\n",
    "a = np.arange(4)\n",
    "a + b\n",
    "a - b\n",
    "\n",
    "a * b\n",
    "\n",
    "a * np.sin(b)\n",
    "\n",
    "A = np.arange(0, 9).reshape(3, 3)\n",
    "A\n",
    "B = np.ones((3, 3))\n",
    "B\n",
    "A * B\n",
    "np.dot(A, B)\n",
    "\n",
    "a += 1\n",
    "a\n",
    "a\n",
    "a = np.arange(0, 4)\n",
    "a\n",
    "a += 1\n",
    "a\n",
    "a -= 1\n",
    "a\n",
    "a = np.arange(1, 5)\n",
    "a\n",
    "np.sqrt(a)\n",
    "np.log(a)\n",
    "np.sin(a)\n",
    "a = np.array([3.3, 4.5, 1.2, 5.7, 0.3])\n",
    "a.sum()\n",
    "a.max()\n",
    "a.mean()\n",
    "a.std()\n",
    "a = np.arange(10, 16)\n",
    "a\n",
    "a[4]\n",
    "a[-1]\n",
    "a[[1, 3, 4]]\n",
    "\n",
    "A = np.arange(10, 18).reshape((2, 4))\n",
    "A\n",
    "A[1, 2]\n",
    "\n",
    "a = np.arange(10, 16)\n",
    "a\n",
    "a[1:5]\n",
    "a[1:5:2]\n",
    "A = np.arange(10, 19).reshape((3, 3))\n",
    "A\n",
    "A[0, :]\n",
    "\n",
    "A[:, 0]\n",
    "\n",
    "A[:2, :2]\n",
    "\n",
    "A[1]\n",
    "A[1,]\n",
    "\n",
    "A[[0, 1],]\n",
    "\n",
    "A[[0, 2], 0:2]\n",
    "\n",
    "A\n",
    "a = np.arange(10, 16)\n",
    "for i in a:\n",
    "    print i\n"
   ]
  },
  {
   "cell_type": "code",
   "execution_count": 4,
   "metadata": {},
   "outputs": [
    {
     "name": "stdout",
     "output_type": "stream",
     "text": [
      "[10 11 12]\n[13 14 15]\n[16 17 18]\n"
     ]
    }
   ],
   "source": [
    "for row in A:\n",
    "    print row"
   ]
  },
  {
   "cell_type": "code",
   "execution_count": 5,
   "metadata": {},
   "outputs": [
    {
     "name": "stdout",
     "output_type": "stream",
     "text": [
      "10\n11\n12\n13\n14\n15\n16\n17\n18\n"
     ]
    }
   ],
   "source": [
    "for item in A.flat:\n",
    "    print item"
   ]
  },
  {
   "cell_type": "code",
   "execution_count": 6,
   "metadata": {},
   "outputs": [
    {
     "data": {
      "text/plain": [
       "array([13., 14., 15.])"
      ]
     },
     "execution_count": 6,
     "metadata": {},
     "output_type": "execute_result"
    }
   ],
   "source": [
    "np.apply_along_axis(np.mean, axis=0, arr=A)"
   ]
  },
  {
   "cell_type": "code",
   "execution_count": 7,
   "metadata": {},
   "outputs": [
    {
     "data": {
      "text/plain": [
       "array([11., 14., 17.])"
      ]
     },
     "execution_count": 7,
     "metadata": {},
     "output_type": "execute_result"
    }
   ],
   "source": [
    "np.apply_along_axis(np.mean, axis=1, arr=A)\n"
   ]
  },
  {
   "cell_type": "code",
   "execution_count": 9,
   "metadata": {},
   "outputs": [
    {
     "data": {
      "text/plain": [
       "array([[5, 5, 6],\n       [6, 7, 7],\n       [8, 8, 9]])"
      ]
     },
     "execution_count": 10,
     "metadata": {},
     "output_type": "execute_result"
    }
   ],
   "source": [
    "def foo(x):\n",
    "    return x / 2\n",
    "np.apply_along_axis(foo, axis=1, arr=A)\n"
   ]
  },
  {
   "cell_type": "code",
   "execution_count": 10,
   "metadata": {},
   "outputs": [
    {
     "data": {
      "text/plain": [
       "array([[5, 5, 6],\n       [6, 7, 7],\n       [8, 8, 9]])"
      ]
     },
     "execution_count": 10,
     "metadata": {},
     "output_type": "execute_result"
    }
   ],
   "source": [
    "np.apply_along_axis(foo, axis=0, arr=A)\n"
   ]
  },
  {
   "cell_type": "code",
   "execution_count": 11,
   "metadata": {},
   "outputs": [
    {
     "data": {
      "text/plain": [
       "array([[0.17292237, 0.17241149, 0.05235622, 0.92710538],\n       [0.79445211, 0.4865951 , 0.53015279, 0.41859012],\n       [0.19249103, 0.63155204, 0.07025385, 0.27901638],\n       [0.19136002, 0.99993896, 0.88678915, 0.37500455]])"
      ]
     },
     "execution_count": 11,
     "metadata": {},
     "output_type": "execute_result"
    }
   ],
   "source": [
    "A = np.random.random((4, 4))\n",
    "A\n"
   ]
  },
  {
   "cell_type": "code",
   "execution_count": 12,
   "metadata": {},
   "outputs": [
    {
     "data": {
      "text/plain": [
       "array([[ True,  True,  True, False],\n       [False,  True, False,  True],\n       [ True, False,  True,  True],\n       [ True, False, False,  True]])"
      ]
     },
     "execution_count": 12,
     "metadata": {},
     "output_type": "execute_result"
    }
   ],
   "source": [
    "A < 0.5\n"
   ]
  },
  {
   "cell_type": "code",
   "execution_count": 13,
   "metadata": {},
   "outputs": [
    {
     "data": {
      "text/plain": [
       "array([0.17292237, 0.17241149, 0.05235622, 0.4865951 , 0.41859012,\n       0.19249103, 0.07025385, 0.27901638, 0.19136002, 0.37500455])"
      ]
     },
     "execution_count": 13,
     "metadata": {},
     "output_type": "execute_result"
    }
   ],
   "source": [
    "A[A < 0.5]\n"
   ]
  },
  {
   "cell_type": "code",
   "execution_count": 14,
   "metadata": {},
   "outputs": [],
   "source": [
    "a=np.random.random(12)"
   ]
  },
  {
   "cell_type": "code",
   "execution_count": 15,
   "metadata": {},
   "outputs": [
    {
     "data": {
      "text/plain": [
       "array([0.5727695 , 0.53074507, 0.79528478, 0.76259301, 0.46584825,\n       0.92828459, 0.26258382, 0.08718578, 0.44838406, 0.32326774,\n       0.88748011, 0.59746487])"
      ]
     },
     "execution_count": 15,
     "metadata": {},
     "output_type": "execute_result"
    }
   ],
   "source": [
    "a"
   ]
  },
  {
   "cell_type": "code",
   "execution_count": 18,
   "metadata": {},
   "outputs": [
    {
     "data": {
      "text/plain": [
       "array([0.5727695 , 0.53074507, 0.79528478, 0.76259301, 0.46584825,\n       0.92828459, 0.26258382, 0.08718578, 0.44838406, 0.32326774,\n       0.88748011, 0.59746487])"
      ]
     },
     "execution_count": 18,
     "metadata": {},
     "output_type": "execute_result"
    }
   ],
   "source": [
    "A = a.reshape((3, 4))\n",
    "A\n",
    "a"
   ]
  },
  {
   "cell_type": "code",
   "execution_count": 19,
   "metadata": {},
   "outputs": [
    {
     "data": {
      "text/plain": [
       "array([[0.5727695 , 0.53074507, 0.79528478, 0.76259301],\n       [0.46584825, 0.92828459, 0.26258382, 0.08718578],\n       [0.44838406, 0.32326774, 0.88748011, 0.59746487]])"
      ]
     },
     "execution_count": 19,
     "metadata": {},
     "output_type": "execute_result"
    }
   ],
   "source": [
    "a.shape = (3, 4)\n",
    "a"
   ]
  },
  {
   "cell_type": "code",
   "execution_count": 27,
   "metadata": {},
   "outputs": [
    {
     "data": {
      "text/plain": [
       "array([[0.5727695 , 0.53074507, 0.79528478, 0.76259301],\n       [0.46584825, 0.92828459, 0.26258382, 0.08718578],\n       [0.44838406, 0.32326774, 0.88748011, 0.59746487]])"
      ]
     },
     "execution_count": 27,
     "metadata": {},
     "output_type": "execute_result"
    }
   ],
   "source": [
    "a = a.ravel()\n",
    "a.shape = (12)\n",
    "a\n",
    "A"
   ]
  },
  {
   "cell_type": "code",
   "execution_count": 28,
   "metadata": {},
   "outputs": [
    {
     "data": {
      "text/plain": [
       "array([[0.5727695 , 0.46584825, 0.44838406],\n       [0.53074507, 0.92828459, 0.32326774],\n       [0.79528478, 0.26258382, 0.88748011],\n       [0.76259301, 0.08718578, 0.59746487]])"
      ]
     },
     "execution_count": 28,
     "metadata": {},
     "output_type": "execute_result"
    }
   ],
   "source": [
    "A.transpose()"
   ]
  },
  {
   "cell_type": "code",
   "execution_count": 32,
   "metadata": {},
   "outputs": [
    {
     "data": {
      "text/plain": [
       "array([[1., 1., 1., 0., 0., 0.],\n       [1., 1., 1., 0., 0., 0.],\n       [1., 1., 1., 0., 0., 0.]])"
      ]
     },
     "execution_count": 32,
     "metadata": {},
     "output_type": "execute_result"
    }
   ],
   "source": [
    "A = np.ones((3, 3))\n",
    "B = np.zeros((3, 3))\n",
    "np.vstack((A, B))\n",
    "np.hstack((A, B))\n"
   ]
  },
  {
   "cell_type": "code",
   "execution_count": 33,
   "metadata": {},
   "outputs": [
    {
     "data": {
      "text/plain": [
       "array([[0, 3, 6],\n       [1, 4, 7],\n       [2, 5, 8]])"
      ]
     },
     "execution_count": 33,
     "metadata": {},
     "output_type": "execute_result"
    }
   ],
   "source": [
    "a = np.array([0, 1, 2])\n",
    "b = np.array([3, 4, 5])\n",
    "c = np.array([6, 7, 8])\n",
    "np.column_stack((a, b, c))\n"
   ]
  },
  {
   "cell_type": "code",
   "execution_count": 34,
   "metadata": {},
   "outputs": [
    {
     "data": {
      "text/plain": [
       "array([[0, 1, 2],\n       [3, 4, 5],\n       [6, 7, 8]])"
      ]
     },
     "execution_count": 34,
     "metadata": {},
     "output_type": "execute_result"
    }
   ],
   "source": [
    "np.row_stack((a, b, c))\n"
   ]
  },
  {
   "cell_type": "code",
   "execution_count": 36,
   "metadata": {},
   "outputs": [
    {
     "data": {
      "text/plain": [
       "array([[ 0,  1,  2,  3],\n       [ 4,  5,  6,  7],\n       [ 8,  9, 10, 11],\n       [12, 13, 14, 15]])"
      ]
     },
     "execution_count": 36,
     "metadata": {},
     "output_type": "execute_result"
    }
   ],
   "source": [
    "A = np.arange(16).reshape((4, 4))\n",
    "A"
   ]
  },
  {
   "cell_type": "code",
   "execution_count": 41,
   "metadata": {},
   "outputs": [
    {
     "data": {
      "text/plain": [
       "array([[ 0,  1],\n       [ 4,  5],\n       [ 8,  9],\n       [12, 13]])"
      ]
     },
     "execution_count": 41,
     "metadata": {},
     "output_type": "execute_result"
    }
   ],
   "source": [
    "[B, C] = np.hsplit(A, 2)\n",
    "B"
   ]
  },
  {
   "cell_type": "code",
   "execution_count": 42,
   "metadata": {},
   "outputs": [
    {
     "data": {
      "text/plain": [
       "array([[ 2,  3],\n       [ 6,  7],\n       [10, 11],\n       [14, 15]])"
      ]
     },
     "execution_count": 42,
     "metadata": {},
     "output_type": "execute_result"
    }
   ],
   "source": [
    "C"
   ]
  },
  {
   "cell_type": "code",
   "execution_count": 43,
   "metadata": {},
   "outputs": [
    {
     "data": {
      "text/plain": [
       "array([[0, 1, 2, 3],\n       [4, 5, 6, 7]])"
      ]
     },
     "execution_count": 43,
     "metadata": {},
     "output_type": "execute_result"
    }
   ],
   "source": [
    "[B, C] = np.vsplit(A, 2)\n",
    "B"
   ]
  },
  {
   "cell_type": "code",
   "execution_count": 44,
   "metadata": {},
   "outputs": [
    {
     "data": {
      "text/plain": [
       "array([[ 8,  9, 10, 11],\n       [12, 13, 14, 15]])"
      ]
     },
     "execution_count": 44,
     "metadata": {},
     "output_type": "execute_result"
    }
   ],
   "source": [
    "C"
   ]
  },
  {
   "cell_type": "code",
   "execution_count": 45,
   "metadata": {},
   "outputs": [
    {
     "data": {
      "text/plain": [
       "array([[ 0,  1,  2,  3],\n       [ 4,  5,  6,  7],\n       [ 8,  9, 10, 11],\n       [12, 13, 14, 15]])"
      ]
     },
     "execution_count": 45,
     "metadata": {},
     "output_type": "execute_result"
    }
   ],
   "source": [
    "A"
   ]
  },
  {
   "cell_type": "code",
   "execution_count": 46,
   "metadata": {},
   "outputs": [
    {
     "data": {
      "text/plain": [
       "array([[ 0],\n       [ 4],\n       [ 8],\n       [12]])"
      ]
     },
     "execution_count": 46,
     "metadata": {},
     "output_type": "execute_result"
    }
   ],
   "source": [
    "[a, b, c] = np.split(A, [1, 3], axis=1)\n",
    "a"
   ]
  },
  {
   "cell_type": "code",
   "execution_count": 47,
   "metadata": {},
   "outputs": [
    {
     "data": {
      "text/plain": [
       "array([[ 1,  2],\n       [ 5,  6],\n       [ 9, 10],\n       [13, 14]])"
      ]
     },
     "execution_count": 47,
     "metadata": {},
     "output_type": "execute_result"
    }
   ],
   "source": [
    "b"
   ]
  },
  {
   "cell_type": "code",
   "execution_count": 48,
   "metadata": {},
   "outputs": [
    {
     "data": {
      "text/plain": [
       "array([[ 3],\n       [ 7],\n       [11],\n       [15]])"
      ]
     },
     "execution_count": 48,
     "metadata": {},
     "output_type": "execute_result"
    }
   ],
   "source": [
    "c"
   ]
  },
  {
   "cell_type": "code",
   "execution_count": 60,
   "metadata": {},
   "outputs": [
    {
     "data": {
      "text/plain": [
       "array([[0, 1, 2, 3]])"
      ]
     },
     "execution_count": 60,
     "metadata": {},
     "output_type": "execute_result"
    }
   ],
   "source": [
    "[a, b, c] = np.split(A, [1, 2], axis=0)\n",
    "a\n"
   ]
  },
  {
   "cell_type": "code",
   "execution_count": 61,
   "metadata": {},
   "outputs": [
    {
     "data": {
      "text/plain": [
       "array([[4, 5, 6, 7]])"
      ]
     },
     "execution_count": 61,
     "metadata": {},
     "output_type": "execute_result"
    }
   ],
   "source": [
    "b"
   ]
  },
  {
   "cell_type": "code",
   "execution_count": 62,
   "metadata": {},
   "outputs": [
    {
     "data": {
      "text/plain": [
       "array([[ 8,  9, 10, 11],\n       [12, 13, 14, 15]])"
      ]
     },
     "execution_count": 62,
     "metadata": {},
     "output_type": "execute_result"
    }
   ],
   "source": [
    "c"
   ]
  },
  {
   "cell_type": "code",
   "execution_count": 64,
   "metadata": {},
   "outputs": [],
   "source": [
    ""
   ]
  },
  {
   "cell_type": "code",
   "execution_count": null,
   "metadata": {},
   "outputs": [],
   "source": []
  }
 ],
 "metadata": {
  "kernelspec": {
   "display_name": "Python 2",
   "language": "python",
   "name": "python2"
  },
  "language_info": {
   "codemirror_mode": {
    "name": "ipython",
    "version": 2
   },
   "file_extension": ".py",
   "mimetype": "text/x-python",
   "name": "python",
   "nbconvert_exporter": "python",
   "pygments_lexer": "ipython2",
   "version": "2.7.6"
  }
 },
 "nbformat": 4,
 "nbformat_minor": 0
}
