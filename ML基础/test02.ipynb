{
 "cells": [
  {
   "cell_type": "code",
   "execution_count": 1,
   "metadata": {},
   "outputs": [
    {
     "name": "stdout",
     "output_type": "stream",
     "text": [
      "    color  object  price\n0    blue    ball    1.2\n1   green     pen    1.0\n2  yellow  pencil    0.6\n3     red   paper    0.9\n4   white     mug    1.7\n   object  price\n0    ball    1.2\n1     pen    1.0\n2  pencil    0.6\n3   paper    0.9\n4     mug    1.7\n        color  object  price\none      blue    ball    1.2\ntwo     green     pen    1.0\nthree  yellow  pencil    0.6\nfour      red   paper    0.9\nfive    white     mug    1.7\n        ball  pen  pencil  paper\nred        0    1       2      3\nblue       4    5       6      7\nyellow     8    9      10     11\nwhite     12   13      14     15\n    color  object  price\n0    blue    ball    1.2\n1   green     pen    1.0\n2  yellow  pencil    0.6\n3     red   paper    0.9\n4   white     mug    1.7\n"
     ]
    },
    {
     "name": "stderr",
     "output_type": "stream",
     "text": [
      "c:\\python27\\lib\\site-packages\\ipykernel_launcher.py:21: RuntimeWarning: invalid value encountered in log\nc:\\python27\\lib\\site-packages\\ipykernel_launcher.py:57: DeprecationWarning: \n.ix is deprecated. Please use\n.loc for label based indexing or\n.iloc for positional indexing\n\nSee the documentation here:\nhttp://pandas.pydata.org/pandas-docs/stable/indexing.html#ix-indexer-is-deprecated\n"
     ]
    },
    {
     "data": {
      "text/plain": [
       "color     yellow\nobject    pencil\nprice        0.6\nName: 2, dtype: object"
      ]
     },
     "execution_count": 1,
     "metadata": {},
     "output_type": "execute_result"
    }
   ],
   "source": [
    "import pandas as pd\n",
    "import numpy as np\n",
    "s = pd.Series([12, -4, 7, 9])\n",
    "s\n",
    "\n",
    "s = pd.Series([12, -4, 7, 9], index=['a', 'b', 'c', 'd'])\n",
    "s\n",
    "s.index\n",
    "s.values\n",
    "arr = np.array([1, 2, 3, 4])\n",
    "s3 = pd.Series(arr)\n",
    "s3\n",
    "s4 = pd.Series(s)\n",
    "s4\n",
    "\n",
    "s3\n",
    "arr[2] = -2\n",
    "s3\n",
    "s[s>8]\n",
    "s/2\n",
    "np.log(s)\n",
    "serd = pd.Series([1, 0, 2, 1, 2, 3], index=['white', 'white', 'blue', 'green', 'green', 'white'])\n",
    "serd\n",
    "serd.unique()\n",
    "serd.value_counts()\n",
    "serd.isin([0, 1])\n",
    "\n",
    "serd[serd.isin([0, 1])]\n",
    "\n",
    "s2 = pd.Series([5, -3, np.NAN, 14])\n",
    "s2.isnull()\n",
    "s2.notnull()\n",
    "s2 > 0\n",
    "mydict = {'red': 2000, 'yellow': 1000, 'blue': 200, 'orange': 213123}\n",
    "myseries = pd.Series(mydict)\n",
    "myseries\n",
    "data = {\n",
    "\n",
    "\n",
    "    'color': ['blue', 'green', 'yellow', 'red', 'white'],\n",
    "    'object': ['ball', 'pen', 'pencil', 'paper', 'mug'],\n",
    "    'price': [1.2, 1.0, 0.6, 0.9, 1.7]\n",
    "}\n",
    "frame = pd.DataFrame(data)\n",
    "print frame\n",
    "frame2 = pd.DataFrame(data, columns=['object', 'price'])\n",
    "print frame2\n",
    "frame3 = pd.DataFrame(data, index=['one', 'two', 'three', 'four', 'five'])\n",
    "print frame3\n",
    "frame3 = pd.DataFrame(np.arange(16).reshape((4, 4)), columns=['ball', 'pen', 'pencil', 'paper'], index=['red', 'blue',\n",
    "                      'yellow', 'white'])\n",
    "\n",
    "print frame3\n",
    "print frame\n",
    "frame.columns\n",
    "frame.values\n",
    "frame.ix[2]\n"
   ]
  },
  {
   "cell_type": "code",
   "execution_count": 7,
   "metadata": {},
   "outputs": [
    {
     "name": "stdout",
     "output_type": "stream",
     "text": [
      "    color  object  price\n2  yellow  pencil    0.6\n4   white     mug    1.7\n"
     ]
    }
   ],
   "source": [
    "print frame.loc[[2, 4]]\n"
   ]
  },
  {
   "cell_type": "code",
   "execution_count": 10,
   "metadata": {},
   "outputs": [
    {
     "name": "stdout",
     "output_type": "stream",
     "text": [
      "    color  object  price\n0    blue    ball    1.2\n1   green     pen    1.0\n2  yellow  pencil    0.6\n3     red   paper    0.9\n4   white     mug    1.7\n"
     ]
    }
   ],
   "source": [
    "print frame\n"
   ]
  },
  {
   "cell_type": "code",
   "execution_count": 11,
   "metadata": {},
   "outputs": [
    {
     "name": "stdout",
     "output_type": "stream",
     "text": [
      "    color  object  price\n1   green     pen    1.0\n2  yellow  pencil    0.6\n"
     ]
    }
   ],
   "source": [
    "print frame[1:3]\n"
   ]
  },
  {
   "cell_type": "code",
   "execution_count": 12,
   "metadata": {},
   "outputs": [
    {
     "data": {
      "text/plain": [
       "'paper'"
      ]
     },
     "execution_count": 12,
     "metadata": {},
     "output_type": "execute_result"
    }
   ],
   "source": [
    "frame['object'][3]"
   ]
  },
  {
   "cell_type": "code",
   "execution_count": 15,
   "metadata": {},
   "outputs": [
    {
     "name": "stdout",
     "output_type": "stream",
     "text": [
      "item   color  object  price\nid                         \n0       blue    ball    1.2\n1      green     pen    1.0\n2     yellow  pencil    0.6\n3        red   paper    0.9\n4      white     mug    1.7\n"
     ]
    }
   ],
   "source": [
    "frame.index.name = 'id'\n",
    "frame.columns.name = 'item'\n",
    "print frame"
   ]
  },
  {
   "cell_type": "code",
   "execution_count": 20,
   "metadata": {},
   "outputs": [
    {
     "name": "stdout",
     "output_type": "stream",
     "text": [
      "item  object  price\nid                 \n0       ball    1.2\n1        pen    1.0\n2     pencil    0.6\n3      paper    0.9\n4        mug    1.7\n"
     ]
    }
   ],
   "source": [
    "print frame\n"
   ]
  },
  {
   "cell_type": "code",
   "execution_count": null,
   "metadata": {},
   "outputs": [],
   "source": []
  }
 ],
 "metadata": {
  "kernelspec": {
   "display_name": "Python 2",
   "language": "python",
   "name": "python2"
  },
  "language_info": {
   "codemirror_mode": {
    "name": "ipython",
    "version": 2
   },
   "file_extension": ".py",
   "mimetype": "text/x-python",
   "name": "python",
   "nbconvert_exporter": "python",
   "pygments_lexer": "ipython2",
   "version": "2.7.6"
  }
 },
 "nbformat": 4,
 "nbformat_minor": 0
}
